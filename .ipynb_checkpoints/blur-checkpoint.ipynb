{
 "cells": [
  {
   "cell_type": "code",
   "execution_count": 2,
   "metadata": {},
   "outputs": [],
   "source": [
    "import numpy as np\n",
    "from scipy.ndimage.filters import convolve\n",
    "import skimage.io\n",
    "import matplotlib.pyplot as plt\n",
    "import sys\n",
    "%matplotlib inline"
   ]
  },
  {
   "cell_type": "code",
   "execution_count": 25,
   "metadata": {},
   "outputs": [],
   "source": [
    "input = np.array([[[10, 110, 210], [20, 120, 220], [30, 130, 230], [40, 140, 240], [50, 150, 250]],\n",
    "                   [[20, 120, 220], [30, 130, 230], [40, 140, 240], [50, 150, 250], [10, 110, 210]],\n",
    "                   [[30, 130, 230], [40, 140, 240], [50, 150, 250], [10, 110, 210], [20, 120, 220]],\n",
    "                   [[40, 140, 240], [50, 150, 250], [10, 110, 210], [20, 120, 220], [30, 130, 230]],\n",
    "                   [[50, 150, 250], [10, 110, 210], [20, 120, 220], [30, 130, 230], [40, 140, 240]]],\n",
    "                  dtype=\"uint8\")"
   ]
  },
  {
   "cell_type": "code",
   "execution_count": 26,
   "metadata": {},
   "outputs": [
    {
     "name": "stderr",
     "output_type": "stream",
     "text": [
      "/Users/indiana-nikel/anaconda3/lib/python3.6/site-packages/skimage/io/_plugins/matplotlib_plugin.py:51: FutureWarning: Conversion of the second argument of issubdtype from `float` to `np.floating` is deprecated. In future, it will be treated as `np.float64 == np.dtype(float).type`.\n",
      "  out_of_range_float = (np.issubdtype(image.dtype, np.float) and\n"
     ]
    },
    {
     "data": {
      "text/plain": [
       "<matplotlib.image.AxesImage at 0x1a1da50400>"
      ]
     },
     "execution_count": 26,
     "metadata": {},
     "output_type": "execute_result"
    },
    {
     "data": {
      "image/png": "[encoded data removed]",
      "text/plain": [
       "<matplotlib.figure.Figure at 0x1a1d369b38>"
      ]
     },
     "metadata": {},
     "output_type": "display_data"
    }
   ],
   "source": [
    "input_img = input\n",
    "#input_img = plt.imread(\"lights.png\")\n",
    "skimage.io.imshow(input_img)\n"
   ]
  },
  {
   "cell_type": "code",
   "execution_count": 37,
   "metadata": {},
   "outputs": [
    {
     "name": "stdout",
     "output_type": "stream",
     "text": [
      "10 20 30\n",
      "20 30 40\n",
      "30 40 50\n",
      "270\n",
      "30.0\n",
      "30.0\n",
      "110 120 130\n",
      "120 130 140\n",
      "130 140 150\n",
      "1170\n",
      "130.0\n",
      "130.0\n",
      "210 220 230\n",
      "220 230 240\n",
      "230 240 250\n",
      "2070\n",
      "230.0\n",
      "230.0\n",
      "20 30 40\n",
      "30 40 50\n",
      "40 50 10\n",
      "310\n",
      "34.44444444444444\n",
      "34.0\n",
      "120 130 140\n",
      "130 140 150\n",
      "140 150 110\n",
      "1210\n",
      "134.44444444444443\n",
      "134.0\n",
      "220 230 240\n",
      "230 240 250\n",
      "240 250 210\n",
      "2110\n",
      "234.44444444444443\n",
      "234.0\n",
      "30 40 50\n",
      "40 50 10\n",
      "50 10 20\n",
      "300\n",
      "33.33333333333333\n",
      "33.0\n",
      "130 140 150\n",
      "140 150 110\n",
      "150 110 120\n",
      "1200\n",
      "133.33333333333331\n",
      "133.0\n",
      "230 240 250\n",
      "240 250 210\n",
      "250 210 220\n",
      "2100\n",
      "233.33333333333331\n",
      "233.0\n",
      "20 30 40\n",
      "30 40 50\n",
      "40 50 10\n",
      "310\n",
      "34.44444444444444\n",
      "34.0\n",
      "120 130 140\n",
      "130 140 150\n",
      "140 150 110\n",
      "1210\n",
      "134.44444444444443\n",
      "134.0\n",
      "220 230 240\n",
      "230 240 250\n",
      "240 250 210\n",
      "2110\n",
      "234.44444444444443\n",
      "234.0\n",
      "30 40 50\n",
      "40 50 10\n",
      "50 10 20\n",
      "300\n",
      "33.33333333333333\n",
      "33.0\n",
      "130 140 150\n",
      "140 150 110\n",
      "150 110 120\n",
      "1200\n",
      "133.33333333333331\n",
      "133.0\n",
      "230 240 250\n",
      "240 250 210\n",
      "250 210 220\n",
      "2100\n",
      "233.33333333333331\n",
      "233.0\n",
      "40 50 10\n",
      "50 10 20\n",
      "10 20 30\n",
      "240\n",
      "26.666666666666664\n",
      "27.0\n",
      "140 150 110\n",
      "150 110 120\n",
      "110 120 130\n",
      "1140\n",
      "126.66666666666666\n",
      "127.0\n",
      "240 250 210\n",
      "250 210 220\n",
      "210 220 230\n",
      "2040\n",
      "226.66666666666666\n",
      "227.0\n",
      "30 40 50\n",
      "40 50 10\n",
      "50 10 20\n",
      "300\n",
      "33.33333333333333\n",
      "33.0\n",
      "130 140 150\n",
      "140 150 110\n",
      "150 110 120\n",
      "1200\n",
      "133.33333333333331\n",
      "133.0\n",
      "230 240 250\n",
      "240 250 210\n",
      "250 210 220\n",
      "2100\n",
      "233.33333333333331\n",
      "233.0\n",
      "40 50 10\n",
      "50 10 20\n",
      "10 20 30\n",
      "240\n",
      "26.666666666666664\n",
      "27.0\n",
      "140 150 110\n",
      "150 110 120\n",
      "110 120 130\n",
      "1140\n",
      "126.66666666666666\n",
      "127.0\n",
      "240 250 210\n",
      "250 210 220\n",
      "210 220 230\n",
      "2040\n",
      "226.66666666666666\n",
      "227.0\n",
      "50 10 20\n",
      "10 20 30\n",
      "20 30 40\n",
      "230\n",
      "25.555555555555554\n",
      "26.0\n",
      "150 110 120\n",
      "110 120 130\n",
      "120 130 140\n",
      "1130\n",
      "125.55555555555554\n",
      "126.0\n",
      "250 210 220\n",
      "210 220 230\n",
      "220 230 240\n",
      "2030\n",
      "225.55555555555554\n",
      "226.0\n"
     ]
    }
   ],
   "source": [
    "for i in range(1,len(input_img)-1):\n",
    "    for j in range(1,len(input_img[i])-1):\n",
    "        for k in range(0, len(input_img[i][j])):\n",
    "            tl = np.array(input_img[i+1][j-1][k], dtype=\"uint64\")\n",
    "            tm = np.array(input_img[i+1][j][k], dtype=\"uint64\")\n",
    "            tr = np.array(input_img[i+1][j+1][k], dtype=\"uint64\")\n",
    "            cl = np.array(input_img[i][j-1][k], dtype=\"uint64\")\n",
    "            cm = np.array(input_img[i][j][k], dtype=\"uint64\")\n",
    "            cr = np.array(input_img[i][j+1][k], dtype=\"uint64\")\n",
    "            bl = np.array(input_img[i-1][j-1][k], dtype=\"uint64\")\n",
    "            bm = np.array(input_img[i-1][j][k], dtype=\"uint64\")\n",
    "            br = np.array(input_img[i-1][j+1][k], dtype=\"uint64\")\n",
    "            print(bl, bm, br)\n",
    "            print(cl,cm,cr)\n",
    "            print(tl,tm,tr)\n",
    "            print(bl + bm + br + cl + cm + cr + tl + tm + tr)\n",
    "            print((1/9)*(bl + bm + br + cl + cm + cr + tl + tm + tr))\n",
    "            print(np.round((1/9)*(bl + bm + br + cl + cm + cr + tl + tm + tr)))"
   ]
  },
  {
   "cell_type": "code",
   "execution_count": 38,
   "metadata": {},
   "outputs": [
    {
     "name": "stdout",
     "output_type": "stream",
     "text": [
      "30.0\n",
      "130.0\n",
      "230.0\n",
      "34.0\n",
      "134.0\n",
      "234.0\n",
      "33.0\n",
      "133.0\n",
      "233.0\n",
      "34.0\n",
      "134.0\n",
      "234.0\n",
      "33.0\n",
      "133.0\n",
      "233.0\n",
      "27.0\n",
      "127.0\n",
      "227.0\n",
      "33.0\n",
      "133.0\n",
      "233.0\n",
      "27.0\n",
      "127.0\n",
      "227.0\n",
      "26.0\n",
      "126.0\n",
      "226.0\n"
     ]
    }
   ],
   "source": [
    "output_img = np.ones((len(input_img)-2, len(input_img[0])-2, 3), dtype=\"uint8\")\n",
    "#print(output_img)\n",
    "\n",
    "for i in range(1,len(input_img)-1):\n",
    "    for j in range(1,len(input_img[i])-1):\n",
    "        for k in range(0, len(input_img[i][j])):\n",
    "            tl = np.array(input_img[i+1][j-1][k], dtype=\"uint64\")\n",
    "            tm = np.array(input_img[i+1][j][k], dtype=\"uint64\")\n",
    "            tr = np.array(input_img[i+1][j+1][k], dtype=\"uint64\")\n",
    "            cl = np.array(input_img[i][j-1][k], dtype=\"uint64\")\n",
    "            cm = np.array(input_img[i][j][k], dtype=\"uint64\")\n",
    "            cr = np.array(input_img[i][j+1][k], dtype=\"uint64\")\n",
    "            bl = np.array(input_img[i-1][j-1][k], dtype=\"uint64\")\n",
    "            bm = np.array(input_img[i-1][j][k], dtype=\"uint64\")\n",
    "            br = np.array(input_img[i-1][j+1][k], dtype=\"uint64\")\n",
    "            new_pix = np.round((1/9)*(tl+tm+tr+cl+cm+cr+bl+bm+br))\n",
    "            print(new_pix)\n",
    "            output_img[i-1][j-1][k] = new_pix\n"
   ]
  },
  {
   "cell_type": "code",
   "execution_count": 39,
   "metadata": {},
   "outputs": [
    {
     "name": "stdout",
     "output_type": "stream",
     "text": [
      "[[[ 30 130 230]\n",
      "  [ 34 134 234]\n",
      "  [ 33 133 233]]\n",
      "\n",
      " [[ 34 134 234]\n",
      "  [ 33 133 233]\n",
      "  [ 27 127 227]]\n",
      "\n",
      " [[ 33 133 233]\n",
      "  [ 27 127 227]\n",
      "  [ 26 126 226]]]\n"
     ]
    },
    {
     "name": "stderr",
     "output_type": "stream",
     "text": [
      "/Users/indiana-nikel/anaconda3/lib/python3.6/site-packages/skimage/io/_plugins/matplotlib_plugin.py:51: FutureWarning: Conversion of the second argument of issubdtype from `float` to `np.floating` is deprecated. In future, it will be treated as `np.float64 == np.dtype(float).type`.\n",
      "  out_of_range_float = (np.issubdtype(image.dtype, np.float) and\n",
      "/Users/indiana-nikel/anaconda3/lib/python3.6/site-packages/skimage/io/_plugins/matplotlib_plugin.py:74: UserWarning: Low image data range; displaying image with stretched contrast.\n",
      "  warn(\"Low image data range; displaying image with \"\n"
     ]
    },
    {
     "data": {
      "image/png": "[encoded data removed]",
      "text/plain": [
       "<matplotlib.figure.Figure at 0x1a1da6d7f0>"
      ]
     },
     "metadata": {},
     "output_type": "display_data"
    }
   ],
   "source": [
    "print(output_img)\n",
    "skimage.io.imshow(output_img)\n",
    "#skimage.io.imsave(\"lights_blur.png\", output_img)\n",
    "\n",
    "input3 = np.array([[[30, 130, 230], [34, 134, 234], [33, 133, 233]],\n",
    "                   [[34, 134, 234], [33, 133, 233], [27, 127, 227]],\n",
    "                   [[33, 133, 233], [27, 127, 227], [26, 126, 226]]],\n",
    "                   dtype=\"uint8\")"
   ]
  },
  {
   "cell_type": "code",
   "execution_count": null,
   "metadata": {},
   "outputs": [],
   "source": []
  },
  {
   "cell_type": "code",
   "execution_count": null,
   "metadata": {},
   "outputs": [],
   "source": []
  }
 ],
 "metadata": {
  "kernelspec": {
   "display_name": "Python 3",
   "language": "python",
   "name": "python3"
  },
  "language_info": {
   "codemirror_mode": {
    "name": "ipython",
    "version": 3
   },
   "file_extension": ".py",
   "mimetype": "text/x-python",
   "name": "python",
   "nbconvert_exporter": "python",
   "pygments_lexer": "ipython3",
   "version": "3.6.4"
  }
 },
 "nbformat": 4,
 "nbformat_minor": 2
}
