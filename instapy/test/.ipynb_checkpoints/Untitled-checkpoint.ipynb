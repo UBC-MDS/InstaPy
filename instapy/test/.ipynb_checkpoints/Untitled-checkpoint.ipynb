{
 "cells": [
  {
   "cell_type": "code",
   "execution_count": 3,
   "metadata": {},
   "outputs": [],
   "source": [
    "from scipy.ndimage.filters import convolve\n",
    "import skimage.io\n",
    "import matplotlib.pyplot as plt\n",
    "import sys\n",
    "import os\n",
    "%matplotlib inline\n",
    "\n",
    "def flip(img, direction, output_path):\n",
    "    '''\n",
    "    Flips an image in either horizonatl or vertical direction\n",
    "    Input: string of path for an image file in .jpg, .jpeg, .png, .tiff format\n",
    "    Output: an image file in .jpg, .jpeg, .png, .tiff format\n",
    "    '''\n",
    "    \n",
    "    #Reading image file as matrix\n",
    "    input_mat = skimage.io.imread(img)\n",
    "    \n",
    "    #Loop for direction to be either horizontal or vertical\n",
    "    \n",
    "    #Vertical Flip\n",
    "    if direction == \"v\":\n",
    "        asc=range(0, input_mat.shape[0])\n",
    "        desc=list(reversed(asc))\n",
    "        output_mat = input_mat.copy()\n",
    "        output_mat[asc] = input_mat[desc]\n",
    "\n",
    "    #Horizontal Flip\n",
    "    elif direction == \"h\":\n",
    "        dim1=input_mat.shape[0]\n",
    "        dim2=input_mat.shape[1]\n",
    "        output_mat=np.zeros((dim1,dim2,3))\n",
    "        for x in range(0,input_mat.shape[0]):\n",
    "            output_mat[x]=input_mat[x][::-1]\n",
    "        \n",
    "    #Converting data type\n",
    "    output_mat=np.array(output_mat, dtype=np.uint8)\n",
    "\n",
    "    #Display flipped image to user\n",
    "    #skimage.io.imshow(output_mat)\n",
    "    \n",
    "    #Save flipped image \n",
    "    plt.imsave(output_path,output_mat)"
   ]
  },
  {
   "cell_type": "code",
   "execution_count": 12,
   "metadata": {},
   "outputs": [],
   "source": [
    "#Copyright 2018 Tarini Bhatnagar\n",
    "#Licensed under the Apache License, Version 2.0 (the \"License\")\n",
    "#you may not use this file except in compliance with the License.\n",
    "#You may obtain a copy of the License at http://www.apache.org/licenses/LICENSE-2.0\n",
    "\n",
    "# March 2018\n",
    "# This script tests the function from flip.R.\n",
    "\n",
    "# This script tests flip function of InstaPy package. \n",
    "# This function flips an image. It takes an argument for direction from the user: horizontal or vertical.\n",
    "# Input  : An image in .jpg.jpeg.png,.tiff format\n",
    "# Output : A flipped image in .jpg.jpeg.png,.tiff format\n",
    "\n",
    "import numpy as np\n",
    "import matplotlib.pyplot as plt\n",
    "import pytest\n",
    "#from InstaPy import flip\n",
    "\n",
    "#Define test image for horizontal flip\n",
    "\n",
    "img_horiz = np.array([[[255,  0,  0 ], [255,  0,  0 ], [255,  0,  0 ]],\n",
    "                      [[255, 255,255], [255, 255,255], [255, 255,255]],\n",
    "                      [[255,  0,  0 ], [255,  0,  0 ], [255,  0,  0 ]]], dtype = \"uint8\")\n",
    "\n",
    "                \n",
    "#Define test image for vertical flip\n",
    "\n",
    "img_vert =  np.array([[[255, 255, 255 ], [255, 255, 255  ], [255, 255, 255  ]],\n",
    "                      [[ 0 , 255,  0  ], [  0 , 255,  0  ], [  0 , 255,  0  ]],\n",
    "                      [[ 0 , 255,  0  ], [  0 , 255,  0  ], [  0 , 255,  0  ]]], dtype = \"uint8\")\n",
    "\n",
    "\n",
    "\n",
    "#Expected image matrix for horizontal flip\n",
    "\n",
    "img_horiz_exp = np.array([[[0,  0,   255], [0, 0,  255  ], [0,  0,  255  ]],\n",
    "                          [[255, 255,255], [255, 255,255], [255, 255,255]],\n",
    "                          [[0,  0,   255], [0,  0,  255 ], [0,  0,  255 ]]], dtype = \"uint8\")\n",
    " \n",
    "                \n",
    "#Expected image matrix for vertical flip\n",
    "\n",
    "img_vert_exp =  np.array([[[0   , 255,  0   ], [  0 , 255,  0  ], [  0 , 255,  0 ]],\n",
    "                          [[0   , 255,  0   ], [  0 , 255,  0  ], [  0 , 255,  0  ]],\n",
    "                          [[255 , 255,  255 ], [255 , 255, 255 ], [ 255 ,255, 255  ]]], dtype = \"uint8\")"
   ]
  },
  {
   "cell_type": "code",
   "execution_count": 17,
   "metadata": {},
   "outputs": [
    {
     "ename": "FileNotFoundError",
     "evalue": "[Errno 2] No such file or directory: './test_img/img_horiz.jpg'",
     "output_type": "error",
     "traceback": [
      "\u001b[0;31m---------------------------------------------------------------------------\u001b[0m",
      "\u001b[0;31mFileNotFoundError\u001b[0m                         Traceback (most recent call last)",
      "\u001b[0;32m<ipython-input-17-9a99dc7ffac1>\u001b[0m in \u001b[0;36m<module>\u001b[0;34m()\u001b[0m\n\u001b[0;32m----> 1\u001b[0;31m \u001b[0mplt\u001b[0m\u001b[0;34m.\u001b[0m\u001b[0mimsave\u001b[0m\u001b[0;34m(\u001b[0m\u001b[0;34m\"./test_img/img_horiz.jpg\"\u001b[0m\u001b[0;34m,\u001b[0m\u001b[0mimg_horiz\u001b[0m\u001b[0;34m)\u001b[0m\u001b[0;34m\u001b[0m\u001b[0m\n\u001b[0m\u001b[1;32m      2\u001b[0m \u001b[0;31m#plt.imsave(\"img_vert.jpg\",img_vert)\u001b[0m\u001b[0;34m\u001b[0m\u001b[0;34m\u001b[0m\u001b[0m\n",
      "\u001b[0;32m/Users/Tarini/anaconda/lib/python3.6/site-packages/matplotlib/pyplot.py\u001b[0m in \u001b[0;36mimsave\u001b[0;34m(*args, **kwargs)\u001b[0m\n\u001b[1;32m   2317\u001b[0m \u001b[0;34m@\u001b[0m\u001b[0mdocstring\u001b[0m\u001b[0;34m.\u001b[0m\u001b[0mcopy_dedent\u001b[0m\u001b[0;34m(\u001b[0m\u001b[0m_imsave\u001b[0m\u001b[0;34m)\u001b[0m\u001b[0;34m\u001b[0m\u001b[0m\n\u001b[1;32m   2318\u001b[0m \u001b[0;32mdef\u001b[0m \u001b[0mimsave\u001b[0m\u001b[0;34m(\u001b[0m\u001b[0;34m*\u001b[0m\u001b[0margs\u001b[0m\u001b[0;34m,\u001b[0m \u001b[0;34m**\u001b[0m\u001b[0mkwargs\u001b[0m\u001b[0;34m)\u001b[0m\u001b[0;34m:\u001b[0m\u001b[0;34m\u001b[0m\u001b[0m\n\u001b[0;32m-> 2319\u001b[0;31m     \u001b[0;32mreturn\u001b[0m \u001b[0m_imsave\u001b[0m\u001b[0;34m(\u001b[0m\u001b[0;34m*\u001b[0m\u001b[0margs\u001b[0m\u001b[0;34m,\u001b[0m \u001b[0;34m**\u001b[0m\u001b[0mkwargs\u001b[0m\u001b[0;34m)\u001b[0m\u001b[0;34m\u001b[0m\u001b[0m\n\u001b[0m\u001b[1;32m   2320\u001b[0m \u001b[0;34m\u001b[0m\u001b[0m\n\u001b[1;32m   2321\u001b[0m \u001b[0;34m\u001b[0m\u001b[0m\n",
      "\u001b[0;32m/Users/Tarini/anaconda/lib/python3.6/site-packages/matplotlib/image.py\u001b[0m in \u001b[0;36mimsave\u001b[0;34m(fname, arr, vmin, vmax, cmap, format, origin, dpi)\u001b[0m\n\u001b[1;32m   1345\u001b[0m         \u001b[0mimage\u001b[0m\u001b[0;34m.\u001b[0m\u001b[0mset_data\u001b[0m\u001b[0;34m(\u001b[0m\u001b[0marr\u001b[0m\u001b[0;34m)\u001b[0m\u001b[0;34m\u001b[0m\u001b[0m\n\u001b[1;32m   1346\u001b[0m         \u001b[0mimage\u001b[0m\u001b[0;34m.\u001b[0m\u001b[0mset_clim\u001b[0m\u001b[0;34m(\u001b[0m\u001b[0mvmin\u001b[0m\u001b[0;34m,\u001b[0m \u001b[0mvmax\u001b[0m\u001b[0;34m)\u001b[0m\u001b[0;34m\u001b[0m\u001b[0m\n\u001b[0;32m-> 1347\u001b[0;31m         \u001b[0mimage\u001b[0m\u001b[0;34m.\u001b[0m\u001b[0mwrite_png\u001b[0m\u001b[0;34m(\u001b[0m\u001b[0mfname\u001b[0m\u001b[0;34m)\u001b[0m\u001b[0;34m\u001b[0m\u001b[0m\n\u001b[0m\u001b[1;32m   1348\u001b[0m     \u001b[0;32melse\u001b[0m\u001b[0;34m:\u001b[0m\u001b[0;34m\u001b[0m\u001b[0m\n\u001b[1;32m   1349\u001b[0m         \u001b[0mfig\u001b[0m \u001b[0;34m=\u001b[0m \u001b[0mFigure\u001b[0m\u001b[0;34m(\u001b[0m\u001b[0mdpi\u001b[0m\u001b[0;34m=\u001b[0m\u001b[0mdpi\u001b[0m\u001b[0;34m,\u001b[0m \u001b[0mframeon\u001b[0m\u001b[0;34m=\u001b[0m\u001b[0;32mFalse\u001b[0m\u001b[0;34m)\u001b[0m\u001b[0;34m\u001b[0m\u001b[0m\n",
      "\u001b[0;32m/Users/Tarini/anaconda/lib/python3.6/site-packages/matplotlib/image.py\u001b[0m in \u001b[0;36mwrite_png\u001b[0;34m(self, fname)\u001b[0m\n\u001b[1;32m    576\u001b[0m         im = self.to_rgba(self._A[::-1] if self.origin == 'lower' else self._A,\n\u001b[1;32m    577\u001b[0m                           bytes=True, norm=True)\n\u001b[0;32m--> 578\u001b[0;31m         \u001b[0m_png\u001b[0m\u001b[0;34m.\u001b[0m\u001b[0mwrite_png\u001b[0m\u001b[0;34m(\u001b[0m\u001b[0mim\u001b[0m\u001b[0;34m,\u001b[0m \u001b[0mfname\u001b[0m\u001b[0;34m)\u001b[0m\u001b[0;34m\u001b[0m\u001b[0m\n\u001b[0m\u001b[1;32m    579\u001b[0m \u001b[0;34m\u001b[0m\u001b[0m\n\u001b[1;32m    580\u001b[0m     \u001b[0;32mdef\u001b[0m \u001b[0mset_data\u001b[0m\u001b[0;34m(\u001b[0m\u001b[0mself\u001b[0m\u001b[0;34m,\u001b[0m \u001b[0mA\u001b[0m\u001b[0;34m)\u001b[0m\u001b[0;34m:\u001b[0m\u001b[0;34m\u001b[0m\u001b[0m\n",
      "\u001b[0;31mFileNotFoundError\u001b[0m: [Errno 2] No such file or directory: './test_img/img_horiz.jpg'"
     ]
    }
   ],
   "source": [
    "plt.imsave(\"./test_img/img_horiz.jpg\",img_horiz)\n",
    "#plt.imsave(\"img_vert.jpg\",img_vert)"
   ]
  },
  {
   "cell_type": "code",
   "execution_count": 5,
   "metadata": {},
   "outputs": [
    {
     "ename": "FileNotFoundError",
     "evalue": "[Errno 2] No such file or directory: './test_img/img_horiz.jpg'",
     "output_type": "error",
     "traceback": [
      "\u001b[0;31m---------------------------------------------------------------------------\u001b[0m",
      "\u001b[0;31mFileNotFoundError\u001b[0m                         Traceback (most recent call last)",
      "\u001b[0;32m<ipython-input-5-8d10223ffda3>\u001b[0m in \u001b[0;36m<module>\u001b[0;34m()\u001b[0m\n\u001b[1;32m     46\u001b[0m \u001b[0;34m\u001b[0m\u001b[0m\n\u001b[1;32m     47\u001b[0m \u001b[0;34m\u001b[0m\u001b[0m\n\u001b[0;32m---> 48\u001b[0;31m \u001b[0mplt\u001b[0m\u001b[0;34m.\u001b[0m\u001b[0mimsave\u001b[0m\u001b[0;34m(\u001b[0m\u001b[0;34m\"./test_img/img_horiz.jpg\"\u001b[0m\u001b[0;34m,\u001b[0m\u001b[0mimg_horiz\u001b[0m\u001b[0;34m)\u001b[0m\u001b[0;34m\u001b[0m\u001b[0m\n\u001b[0m\u001b[1;32m     49\u001b[0m \u001b[0mplt\u001b[0m\u001b[0;34m.\u001b[0m\u001b[0mimsave\u001b[0m\u001b[0;34m(\u001b[0m\u001b[0;34m\"./test_img/img_vert.jpg\"\u001b[0m\u001b[0;34m,\u001b[0m\u001b[0mimg_vert\u001b[0m\u001b[0;34m)\u001b[0m\u001b[0;34m\u001b[0m\u001b[0m\n\u001b[1;32m     50\u001b[0m \u001b[0;34m\u001b[0m\u001b[0m\n",
      "\u001b[0;32m/Users/Tarini/anaconda/lib/python3.6/site-packages/matplotlib/pyplot.py\u001b[0m in \u001b[0;36mimsave\u001b[0;34m(*args, **kwargs)\u001b[0m\n\u001b[1;32m   2317\u001b[0m \u001b[0;34m@\u001b[0m\u001b[0mdocstring\u001b[0m\u001b[0;34m.\u001b[0m\u001b[0mcopy_dedent\u001b[0m\u001b[0;34m(\u001b[0m\u001b[0m_imsave\u001b[0m\u001b[0;34m)\u001b[0m\u001b[0;34m\u001b[0m\u001b[0m\n\u001b[1;32m   2318\u001b[0m \u001b[0;32mdef\u001b[0m \u001b[0mimsave\u001b[0m\u001b[0;34m(\u001b[0m\u001b[0;34m*\u001b[0m\u001b[0margs\u001b[0m\u001b[0;34m,\u001b[0m \u001b[0;34m**\u001b[0m\u001b[0mkwargs\u001b[0m\u001b[0;34m)\u001b[0m\u001b[0;34m:\u001b[0m\u001b[0;34m\u001b[0m\u001b[0m\n\u001b[0;32m-> 2319\u001b[0;31m     \u001b[0;32mreturn\u001b[0m \u001b[0m_imsave\u001b[0m\u001b[0;34m(\u001b[0m\u001b[0;34m*\u001b[0m\u001b[0margs\u001b[0m\u001b[0;34m,\u001b[0m \u001b[0;34m**\u001b[0m\u001b[0mkwargs\u001b[0m\u001b[0;34m)\u001b[0m\u001b[0;34m\u001b[0m\u001b[0m\n\u001b[0m\u001b[1;32m   2320\u001b[0m \u001b[0;34m\u001b[0m\u001b[0m\n\u001b[1;32m   2321\u001b[0m \u001b[0;34m\u001b[0m\u001b[0m\n",
      "\u001b[0;32m/Users/Tarini/anaconda/lib/python3.6/site-packages/matplotlib/image.py\u001b[0m in \u001b[0;36mimsave\u001b[0;34m(fname, arr, vmin, vmax, cmap, format, origin, dpi)\u001b[0m\n\u001b[1;32m   1345\u001b[0m         \u001b[0mimage\u001b[0m\u001b[0;34m.\u001b[0m\u001b[0mset_data\u001b[0m\u001b[0;34m(\u001b[0m\u001b[0marr\u001b[0m\u001b[0;34m)\u001b[0m\u001b[0;34m\u001b[0m\u001b[0m\n\u001b[1;32m   1346\u001b[0m         \u001b[0mimage\u001b[0m\u001b[0;34m.\u001b[0m\u001b[0mset_clim\u001b[0m\u001b[0;34m(\u001b[0m\u001b[0mvmin\u001b[0m\u001b[0;34m,\u001b[0m \u001b[0mvmax\u001b[0m\u001b[0;34m)\u001b[0m\u001b[0;34m\u001b[0m\u001b[0m\n\u001b[0;32m-> 1347\u001b[0;31m         \u001b[0mimage\u001b[0m\u001b[0;34m.\u001b[0m\u001b[0mwrite_png\u001b[0m\u001b[0;34m(\u001b[0m\u001b[0mfname\u001b[0m\u001b[0;34m)\u001b[0m\u001b[0;34m\u001b[0m\u001b[0m\n\u001b[0m\u001b[1;32m   1348\u001b[0m     \u001b[0;32melse\u001b[0m\u001b[0;34m:\u001b[0m\u001b[0;34m\u001b[0m\u001b[0m\n\u001b[1;32m   1349\u001b[0m         \u001b[0mfig\u001b[0m \u001b[0;34m=\u001b[0m \u001b[0mFigure\u001b[0m\u001b[0;34m(\u001b[0m\u001b[0mdpi\u001b[0m\u001b[0;34m=\u001b[0m\u001b[0mdpi\u001b[0m\u001b[0;34m,\u001b[0m \u001b[0mframeon\u001b[0m\u001b[0;34m=\u001b[0m\u001b[0;32mFalse\u001b[0m\u001b[0;34m)\u001b[0m\u001b[0;34m\u001b[0m\u001b[0m\n",
      "\u001b[0;32m/Users/Tarini/anaconda/lib/python3.6/site-packages/matplotlib/image.py\u001b[0m in \u001b[0;36mwrite_png\u001b[0;34m(self, fname)\u001b[0m\n\u001b[1;32m    576\u001b[0m         im = self.to_rgba(self._A[::-1] if self.origin == 'lower' else self._A,\n\u001b[1;32m    577\u001b[0m                           bytes=True, norm=True)\n\u001b[0;32m--> 578\u001b[0;31m         \u001b[0m_png\u001b[0m\u001b[0;34m.\u001b[0m\u001b[0mwrite_png\u001b[0m\u001b[0;34m(\u001b[0m\u001b[0mim\u001b[0m\u001b[0;34m,\u001b[0m \u001b[0mfname\u001b[0m\u001b[0;34m)\u001b[0m\u001b[0;34m\u001b[0m\u001b[0m\n\u001b[0m\u001b[1;32m    579\u001b[0m \u001b[0;34m\u001b[0m\u001b[0m\n\u001b[1;32m    580\u001b[0m     \u001b[0;32mdef\u001b[0m \u001b[0mset_data\u001b[0m\u001b[0;34m(\u001b[0m\u001b[0mself\u001b[0m\u001b[0;34m,\u001b[0m \u001b[0mA\u001b[0m\u001b[0;34m)\u001b[0m\u001b[0;34m:\u001b[0m\u001b[0;34m\u001b[0m\u001b[0m\n",
      "\u001b[0;31mFileNotFoundError\u001b[0m: [Errno 2] No such file or directory: './test_img/img_horiz.jpg'"
     ]
    }
   ],
   "source": [
    "\n",
    "\n",
    "plt.imsave(\"./test_img/img_vert.jpg\",img_vert)\n",
    "\n",
    "#Check if image is flipped correctly\n",
    "\n",
    "#Horizontal flip\n",
    "def test_flip1():\n",
    "    flip(\"./test_img/img_horiz.jpg\", \"h\", \"./test_img/img_horiz_flip.jpg\")\n",
    "    output = plt.imread(\"./test_img/img_horiz_flip.jpg\")[:, :, :3]\n",
    "    assert (output == img_horiz_exp).all(), \"The flip function does not work properly\"\n",
    "    \n",
    "\n",
    "#Vertical flip\n",
    "def test_flip2():\n",
    "    flip(\"./test_img/img_vert.jpg\", \"h\", \"./test_img/img_vert_flip.jpg\")\n",
    "    output = plt.imread(\"./test_img/img_vert_flip.jpg\")[:, :, :3]\n",
    "    assert (output == img_vert_exp).all(), \"The flip function does not work properly\"\n",
    "    \n",
    "\n",
    "#In case the flip direction is not one of the accepted arguments\n",
    "\n",
    "def test_flip3():\n",
    "    assert direction in [\"h\",\"v\"]   , \"Incorrect flip direction\"\n",
    "    \n",
    "\n"
   ]
  },
  {
   "cell_type": "code",
   "execution_count": null,
   "metadata": {
    "collapsed": true
   },
   "outputs": [],
   "source": []
  }
 ],
 "metadata": {
  "kernelspec": {
   "display_name": "Python 3",
   "language": "python",
   "name": "python3"
  },
  "language_info": {
   "codemirror_mode": {
    "name": "ipython",
    "version": 3
   },
   "file_extension": ".py",
   "mimetype": "text/x-python",
   "name": "python",
   "nbconvert_exporter": "python",
   "pygments_lexer": "ipython3",
   "version": "3.6.3"
  }
 },
 "nbformat": 4,
 "nbformat_minor": 2
}
